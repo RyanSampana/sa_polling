{
 "cells": [
  {
   "cell_type": "code",
   "execution_count": 1,
   "metadata": {
    "collapsed": true
   },
   "outputs": [],
   "source": [
    "import pandas as pd\n",
    "import pymongo\n",
    "from datetime import datetime, timedelta\n",
    "from pymongo import MongoClient"
   ]
  },
  {
   "cell_type": "code",
   "execution_count": 2,
   "metadata": {
    "collapsed": true
   },
   "outputs": [],
   "source": [
    "TIME_STAMP_FORMAT = \"%Y-%m-%d %H:%M:%S.%f\""
   ]
  },
  {
   "cell_type": "code",
   "execution_count": 3,
   "metadata": {
    "collapsed": true
   },
   "outputs": [],
   "source": [
    "def mongo_connect():\n",
    "    # Try to connect to MongoDB,  exit if not successful.\n",
    "    try:\n",
    "        conn = MongoClient('localhost', 27018)\n",
    "        # print \"Connected successfully to MongoDB, instance created!\"\n",
    "\n",
    "    except(pymongo.errors.ConnectionFailure, e):\n",
    "        print(\"Could not connect to MongoDB: {}\".format(e))\n",
    "\n",
    "    name = 'SA_Voting_Data'\n",
    "    db = conn[name]  \n",
    "    conversations = db.conversations_collection\n",
    "    raw = db.raw_collection\n",
    "    features = db.features_collection\n",
    "\n",
    "    return conn, db, conversations, raw, features"
   ]
  },
  {
   "cell_type": "code",
   "execution_count": 4,
   "metadata": {
    "collapsed": true
   },
   "outputs": [],
   "source": [
    "def get_addresses():\n",
    "    conn, db, conversations, raw, features = mongo_connect()\n",
    "    try:\n",
    "        c = conversations.distinct('poi')\n",
    "    finally:\n",
    "        conn.close()\n",
    "    \n",
    "    return list(c)\n",
    "\n",
    "def get_conversation(poi):\n",
    "    conn, db, conversations, raw, features = mongo_connect()\n",
    "    try:\n",
    "        c = conversations.find({'poi': poi})\n",
    "    finally:\n",
    "        conn.close()\n",
    "    df = pd.DataFrame(list(c))\n",
    "    header = ['poi','content','from_addr','to_addr','transport_type','transport_name','session_event','_id']\n",
    "    df = df.set_index('timestamp')\n",
    "    \n",
    "    # we drop duplicates of timestamp which is the index\n",
    "    df = df[~df.index.duplicated(keep='first')]\n",
    "    return df[header]"
   ]
  },
  {
   "cell_type": "code",
   "execution_count": 5,
   "metadata": {
    "collapsed": true
   },
   "outputs": [],
   "source": [
    "addresses = get_addresses()"
   ]
  },
  {
   "cell_type": "code",
   "execution_count": 6,
   "metadata": {},
   "outputs": [],
   "source": [
    "example_df = get_conversation(addresses[10])"
   ]
  },
  {
   "cell_type": "markdown",
   "metadata": {},
   "source": [
    "# feature time to response for each push and reminder messages #4\n",
    "# feature: average time to answer a question #3"
   ]
  },
  {
   "cell_type": "code",
   "execution_count": 7,
   "metadata": {
    "collapsed": true
   },
   "outputs": [],
   "source": [
    "def alpha(conversation_df):\n",
    "    \"\"\"average number of responses given per open session and total number of sessions\"\"\"\n",
    "    total_number_of_responses = len(conversation_df[conversation_df['session_event']=='resume'])\n",
    "    number_of_sessions = len(conversation_df[conversation_df['session_event']=='close'])\n",
    "    return float(total_number_of_responses)/float(number_of_sessions), float(number_of_sessions)"
   ]
  },
  {
   "cell_type": "code",
   "execution_count": 8,
   "metadata": {},
   "outputs": [
    {
     "data": {
      "text/plain": [
       "(1.3333333333333333, 6.0)"
      ]
     },
     "execution_count": 8,
     "metadata": {},
     "output_type": "execute_result"
    }
   ],
   "source": [
    "average_response, total_number_of_sessions = alpha(example_df)\n",
    "(average_response, total_number_of_sessions)"
   ]
  },
  {
   "cell_type": "code",
   "execution_count": 9,
   "metadata": {
    "collapsed": true
   },
   "outputs": [],
   "source": [
    "def get_total_time_in_system(df):\n",
    "    # start is the first instance we observe a new_connection\n",
    "    start = datetime.strptime(df[df['session_event'] == 'new'].index[0], TIME_STAMP_FORMAT)\n",
    "    # finish is the very last report of the system\n",
    "    finish = datetime.strptime(df.index[-1],TIME_STAMP_FORMAT)\n",
    "    delta = finish - start\n",
    "    return delta.seconds\n",
    "\n",
    "\n",
    "def beta(conversation_df):\n",
    "    \"\"\"Returns total time interacting and total time in system \"\"\"\n",
    "    total_time_in_system = get_total_time_in_system(conversation_df)\n",
    "    total_time_interacting = 0.0\n",
    "    start_time = 0.0\n",
    "    finish_time = 0.0\n",
    "    in_session = False\n",
    "    for rows in conversation_df.iterrows():\n",
    "\n",
    "        if rows[1]['session_event'] == 'new':\n",
    "            start_time = datetime.strptime(rows[0],TIME_STAMP_FORMAT)\n",
    "            in_session = True\n",
    "\n",
    "        if rows[1]['session_event'] == 'close' and in_session is True:\n",
    "            finish_time = datetime.strptime(rows[0],TIME_STAMP_FORMAT)\n",
    "            delta = finish_time - start_time\n",
    "            time_interacting_in_session = delta.seconds\n",
    "            total_time_interacting += delta.seconds\n",
    "            in_session = False\n",
    "            \n",
    "    return total_time_interacting, total_time_in_system"
   ]
  },
  {
   "cell_type": "code",
   "execution_count": 10,
   "metadata": {},
   "outputs": [
    {
     "data": {
      "text/plain": [
       "(518.0, 85076)"
      ]
     },
     "execution_count": 10,
     "metadata": {},
     "output_type": "execute_result"
    }
   ],
   "source": [
    "(total_time_interacting, total_time_in_system) = beta(example_df)\n",
    "(total_time_interacting, total_time_in_system)"
   ]
  },
  {
   "cell_type": "markdown",
   "metadata": {},
   "source": [
    "# surfing : need to make sure it ignores the endline #2"
   ]
  },
  {
   "cell_type": "code",
   "execution_count": 11,
   "metadata": {
    "collapsed": true
   },
   "outputs": [],
   "source": [
    "def channels(conversation_df):\n",
    "    \"\"\"returns three boolean variables, indicating whether there was surfing happening in this channel\"\"\"\n",
    "    \n",
    "    ch1 = conversation_df[conversation_df['to_addr'] == '*120*7692*2#']\n",
    "    ch2 = conversation_df[conversation_df['to_addr'] == '*120*7692*3#']\n",
    "    ch3 = conversation_df[conversation_df['to_addr'] == '*120*4729#']\n",
    "    \n",
    "    channel_1 = not ch1[ch1['content'].isnull()].empty\n",
    "    channel_2 = not ch2[ch2['content'].isnull()].empty\n",
    "    channel_3 = not ch3[ch3['content'].isnull()].empty\n",
    "    \n",
    "    count = 0\n",
    "    for channel in [channel_1, channel_2, channel_3]:\n",
    "        if channel is True:\n",
    "            count += 1\n",
    "    \n",
    "    if count >=2:\n",
    "        is_surfing = True\n",
    "    else:\n",
    "        is_surfing = False\n",
    "        \n",
    "    return channel_1, channel_2, channel_3, is_surfing"
   ]
  },
  {
   "cell_type": "code",
   "execution_count": 12,
   "metadata": {},
   "outputs": [
    {
     "data": {
      "text/plain": [
       "(False, False, True, False)"
      ]
     },
     "execution_count": 12,
     "metadata": {},
     "output_type": "execute_result"
    }
   ],
   "source": [
    "(channel_1, channel_2, channel_3, is_surfing) = channels(example_df)\n",
    "(channel_1, channel_2, channel_3, is_surfing)"
   ]
  },
  {
   "cell_type": "markdown",
   "metadata": {},
   "source": [
    "GET all channels which the person dialed in who they talked to?"
   ]
  },
  {
   "cell_type": "code",
   "execution_count": 13,
   "metadata": {},
   "outputs": [
    {
     "data": {
      "text/plain": [
       "{'*120*7692#', '*120*4729*1#', None, '*120*4729#', '+27766763040', 'None'}"
      ]
     },
     "execution_count": 13,
     "metadata": {},
     "output_type": "execute_result"
    }
   ],
   "source": [
    "set(example_df['to_addr'].values)"
   ]
  },
  {
   "cell_type": "markdown",
   "metadata": {},
   "source": [
    "Get all transport types"
   ]
  },
  {
   "cell_type": "code",
   "execution_count": 14,
   "metadata": {},
   "outputs": [
    {
     "data": {
      "text/plain": [
       "{'truteq_7692_transport',\n",
       " 'ambient_go_smpp_transport',\n",
       " None,\n",
       " 'truteq_4729_transport'}"
      ]
     },
     "execution_count": 14,
     "metadata": {},
     "output_type": "execute_result"
    }
   ],
   "source": [
    "set(example_df['transport_name'].values)"
   ]
  },
  {
   "cell_type": "code",
   "execution_count": 15,
   "metadata": {},
   "outputs": [
    {
     "data": {
      "text/plain": [
       "{None, 'ussd', 'sms'}"
      ]
     },
     "execution_count": 15,
     "metadata": {},
     "output_type": "execute_result"
    }
   ],
   "source": [
    "set(example_df['transport_type'].values)"
   ]
  },
  {
   "cell_type": "markdown",
   "metadata": {},
   "source": [
    "#### CHANNELS\n",
    "\n",
    "\\*120\\*7692\\*  residual short code\n",
    "\n",
    "\\*120\\*4729\\*1# E-day Monitoring\n",
    "\n",
    "\\*120\\*4729\\*3# Endline\n",
    "\n",
    "\\*120\\*7692\\*1# VIP live magazine\n",
    "\n",
    "\\*120\\*7692\\*2# Main Channel Control\n",
    "\n",
    "\\*120\\*7692\\*3# Main Channel Lottery\n",
    "\n",
    "\\*120\\*4729# Main Channel Subsidary \n",
    "\n",
    "\\*120\\*4279# OR have your voice heard on vip"
   ]
  },
  {
   "cell_type": "markdown",
   "metadata": {},
   "source": [
    "# RESPONSE TIME"
   ]
  },
  {
   "cell_type": "code",
   "execution_count": 53,
   "metadata": {},
   "outputs": [],
   "source": [
    "def get_average_response_time(conversation_df):\n",
    "    questions = conversation_df[conversation_df['from_addr'] != conversation_df['poi']]\n",
    "    questions_loc = [conversation_df.index.get_loc(loc) for loc in questions.index.tolist()]\n",
    "    potential_answers_loc = [conversation_df.index.get_loc(loc)+1 for loc in questions.index.tolist()]\n",
    "    cleaned_questions = list(set(questions_loc)-set(potential_answers_loc))\n",
    "    cleaned_answers = [q+1 for q in cleaned_questions]\n",
    "    \n",
    "    if len(conversation_df)-1 in cleaned_questions:\n",
    "        cleaned_questions.remove(len(conversation_df)-1)\n",
    "\n",
    "    cleaned_answers = [q+1 for q in cleaned_questions]\n",
    "    times = []\n",
    "    \n",
    "    for q,a in zip(cleaned_questions, cleaned_answers):\n",
    "        r1 = conversation_df.iloc[q]\n",
    "        r2 = conversation_df.iloc[a]\n",
    "        r1_date = datetime.strptime(r1.name, TIME_STAMP_FORMAT)\n",
    "        r2_date = datetime.strptime(r2.name, TIME_STAMP_FORMAT)\n",
    "        times.append([(r2_date-r1_date).total_seconds(), r1.content, r2.content])\n",
    "        \n",
    "    df = pd.DataFrame(times)\n",
    "    df.columns = ['times', 'question', 'answer']\n",
    "    df.times.mean()\n",
    "    return df.times.mean(), df"
   ]
  },
  {
   "cell_type": "code",
   "execution_count": 54,
   "metadata": {},
   "outputs": [],
   "source": [
    "t,x = get_average_response_time(example_df)"
   ]
  },
  {
   "cell_type": "code",
   "execution_count": 55,
   "metadata": {},
   "outputs": [
    {
     "data": {
      "text/plain": [
       "105650.55264869564"
      ]
     },
     "execution_count": 55,
     "metadata": {},
     "output_type": "execute_result"
    }
   ],
   "source": [
    "t"
   ]
  },
  {
   "cell_type": "markdown",
   "metadata": {},
   "source": [
    "# feature: set of boolean variables for what you did when you were nudged #5"
   ]
  },
  {
   "cell_type": "code",
   "execution_count": 79,
   "metadata": {
    "collapsed": true
   },
   "outputs": [],
   "source": [
    "def nudged_answer(conversation_df):\n",
    "    english = conversation_df[conversation_df['content'].str.match(r'Welcome to VIP!') == True]\n",
    "    afrikans = conversation_df[conversation_df['content'].str.match(r'Welkom by VIP!') == True]\n",
    "    zulu = conversation_df[conversation_df['content'].str.match(r'Siyakwamukelaohlelweni i-VIP!') == True]\n",
    "    iloc_answers = None\n",
    "    if not english.empty:\n",
    "        iloc_answers = [(conversation_df.index.get_loc(x))+1 for x in english.index.tolist()]\n",
    "        \n",
    "    if not afrikans.empty:\n",
    "        iloc_answers = [(conversation_df.index.get_loc(x))+1 for x in afrikans.index.tolist()]\n",
    "        \n",
    "    if not zulu.empty:\n",
    "        iloc_answers = [(conversation_df.index.get_loc(x))+1 for x in zulu.index.tolist()]\n",
    "    \n",
    "    if iloc_answers:    \n",
    "        answers = conversation_df.iloc[iloc_answers].content.unique()    \n",
    "    else:\n",
    "        answers = []\n",
    "        \n",
    "    event_report = True if '3' in answers else False\n",
    "    answer_win = True if '1' in answers else False\n",
    "    vip = True if '2' in answers else False\n",
    "    whats_up =True if '5' in answers else False\n",
    "    return event_report, answer_win, vip, whats_up"
   ]
  },
  {
   "cell_type": "code",
   "execution_count": 34,
   "metadata": {},
   "outputs": [
    {
     "data": {
      "text/plain": [
       "(False, True, False, False)"
      ]
     },
     "execution_count": 34,
     "metadata": {},
     "output_type": "execute_result"
    }
   ],
   "source": [
    "(event_report, answer_win, vip, whats_up) = nudged_answer(example_df)\n",
    "(event_report, answer_win, vip, whats_up)"
   ]
  },
  {
   "cell_type": "code",
   "execution_count": 76,
   "metadata": {
    "collapsed": true
   },
   "outputs": [],
   "source": [
    "def make_features(address):\n",
    "    conversation_df = get_conversation(address)\n",
    "    \n",
    "    (average_response, total_number_of_sessions) = alpha(conversation_df)\n",
    "    (total_time_interacting, total_time_in_system) = beta(conversation_df)\n",
    "    (channel_1, channel_2, channel_3, is_surfing) = channels(conversation_df)\n",
    "    (average_response_time, response_df) = get_average_response_time(conversation_df)\n",
    "    (event_report, answer_win, vip, whats_up) = nudged_answer(conversation_df)\n",
    "    payload = {\n",
    "        'poi': address, \n",
    "        'average_response_count': average_response, \n",
    "        'total_number_of_sessions': total_number_of_sessions,\n",
    "        'total_time_interacting': total_time_interacting,\n",
    "        'total_time_in_system': total_time_in_system,\n",
    "        'channel_1': channel_1,\n",
    "        'channel_2': channel_2,\n",
    "        'channel_3': channel_3,\n",
    "        'is_surfing': is_surfing,\n",
    "        'event_report': event_report,\n",
    "        'answer_win': answer_win,\n",
    "        'vip': vip,\n",
    "        'whats_up': whats_up,\n",
    "        'average_response_time': average_response_time,\n",
    "        'reponse_data': response_df.to_dict(orient='records'),\n",
    "    }\n",
    "    \n",
    "    conn, db, conversations, raw, features = mongo_connect()\n",
    "    try:\n",
    "        result = features.insert_one(payload)\n",
    "    finally:\n",
    "        conn.close()\n",
    "    \n",
    "    return result.inserted_id"
   ]
  },
  {
   "cell_type": "code",
   "execution_count": 40,
   "metadata": {},
   "outputs": [
    {
     "data": {
      "text/plain": [
       "'+27766763040'"
      ]
     },
     "execution_count": 40,
     "metadata": {},
     "output_type": "execute_result"
    }
   ],
   "source": [
    "addresses[10]"
   ]
  },
  {
   "cell_type": "code",
   "execution_count": 57,
   "metadata": {
    "scrolled": false
   },
   "outputs": [
    {
     "name": "stderr",
     "output_type": "stream",
     "text": [
      "/Users/RyanSampana/anaconda2/envs/venv3/lib/python3.6/site-packages/ipykernel_launcher.py:29: DeprecationWarning: insert is deprecated. Use insert_one or insert_many instead.\n"
     ]
    },
    {
     "data": {
      "text/plain": [
       "ObjectId('5990ca0b41e9c468580a55be')"
      ]
     },
     "execution_count": 57,
     "metadata": {},
     "output_type": "execute_result"
    }
   ],
   "source": [
    "make_features(addresses[10])"
   ]
  },
  {
   "cell_type": "code",
   "execution_count": 58,
   "metadata": {},
   "outputs": [
    {
     "name": "stdout",
     "output_type": "stream",
     "text": [
      "{'_id': ObjectId('5990ca0b41e9c468580a55be'), 'poi': '+27766763040', 'average_response_count': 1.3333333333333333, 'total_number_of_sessions': 6.0, 'total_time_interacting': 518.0, 'total_time_in_system': 85076, 'channel_1': False, 'channel_2': False, 'channel_3': True, 'is_surfing': False, 'event_report': False, 'answer_win': True, 'vip': False, 'whats_up': False, 'average_response_time': 105650.55264869564, 'reponse_data': [{'times': 21.993941, 'question': 'Welcome to Voting is Power! Start by choosing your language:\\n1. English\\n2. Afrikaans\\n3. Zulu', 'answer': '1'}, {'times': 31.024395, 'question': \"Elections! Does ur vote matter?\\n1. YES every vote matters\\n2. NO. I'll vote anyway\\n3. NO. I'm NOT voting\\n4. I'm NOT REGISTRD to vote\\n5. I'm 2 YOUNG to vote\", 'answer': '1'}, {'times': 34.147016, 'question': 'Please accept the terms and conditions to get started\\n1. Accept & Join\\n2. Read t&c\\n3. Quit', 'answer': '1'}, {'times': 28.306997, 'question': \"Tx 4 joining! We need ur voting ward. Type ur home address & we'll work it out. This is prvt, only ur voting ward will be stored &u will be anonymous\", 'answer': 'Session timeout.'}, {'times': 1391169.631438, 'question': \"Tnx 4 volunteering 2 be a citizen reporter for the '14 elections! Start by answering questions or report election activity! Dial back in to *120*4729# begin!\", 'answer': None}, {'times': 34.544431, 'question': \"Welcome to VIP!\\n1. Answer & win!\\n2. VIP Quiz\\n3. Report an Election Activity\\n4. View VIP results...\\n5. What's up?\\n6. About\\n7. End\", 'answer': '1'}, {'times': 9.408301, 'question': 'I am...\\n1. Male\\n2. Female', 'answer': '1'}, {'times': 24.777657, 'question': 'How old are you?\\n1. u14\\n2. 15-19\\n3. 20-29\\n4. 30-39\\n5. 40-49\\n6. 50+', 'answer': '6'}, {'times': 30.070382, 'question': 'Did you vote in the 2009 election?\\n1. Yes\\n2. No, could not/was not registered\\n3. No, did not want to\\n4. No, other\\n5. Skip', 'answer': 'Session timeout.'}, {'times': 29.52224, 'question': 'Did you vote in the 2009 election?\\n1. Yes\\n2. No, could not/was not registered\\n3. No, did not want to\\n4. No, other\\n5. Skip', 'answer': '1'}, {'times': 12.642364, 'question': 'I am...\\n1. Black African\\n2. Coloured\\n3. Indian/Asian\\n4. White\\n5. Other\\n6. Skip', 'answer': '1'}, {'times': 29.177716, 'question': 'Thank you for telling VIP a bit more about yourself! Your airtime will be sent to you shortly!\\n1. Main Menu', 'answer': 'User timeout'}, {'times': 16528.88726, 'question': \"VIP:Voice wants 2 know: hv parties gone door-to-door in ur area in the past 2 wks?  Reply 1. Yes. 2. No. U'll b paid R2 airtime 4 ur response.\", 'answer': None}, {'times': 68818.934959, 'question': \"VIP:Voice wants 2 know: hv parties gone door-to-door in ur area in the past 2 wks?  Reply 1. Yes. 2. No. U'll b paid R2 airtime 4 ur response.\", 'answer': None}, {'times': 92444.954222, 'question': \"VIP:Voice wants 2 know if election held 2moro what party would u vote for: 1.ANC 2.COPE 3.DA 4.EFF 5.Other 6.not vote 7.Skip U'll b paid R2 airtime 4 response.\", 'answer': None}, {'times': 86593.059429, 'question': \"VIP:Voice wants 2 know if election held 2moro what party would u vote for: 1.ANC 2.COPE 3.DA 4.EFF 5.Other 6.not vote 7.Skip U'll b paid R2 airtime 4 response.\", 'answer': None}, {'times': 81486.780349, 'question': 'VIP:Voice wants 2 know: have parties distributed food/money in ur area in the past 2 weeks? Reply 1. Yes. 2. No.  U will be paid R2 airtime for ur response.', 'answer': 'Make a choice, have a voice, vote! Your inked finger will show everyone that you have voted! '}, {'times': 50.093448, 'question': 'VIP wants to know if you voted?\\n1. Yes\\n2. No', 'answer': 'YES'}, {'times': 77666.453699, 'question': 'VIP wants to know if you voted?\\n1. Yes\\n2. No', 'answer': None}, {'times': 614725.218715, 'question': 'VIP wants to know if you voted?\\n1. Yes\\n2. No', 'answer': \"If u haven't already, join thousands of other South Africans and tell us about your experience on election day! Dial*120*4729*1#  It's free to dial!\"}, {'times': 119.060825, 'question': \"Tx 4 joining! We need ur voting ward. Type ur home address & we'll work it out. This is prvt, only ur voting ward will be stored &u will be anonymous\", 'answer': 'Session timeout.'}, {'times': 43.040983, 'question': \"Thanks 4 joining!2 begin we need ur voting ward. Reply with ur home address & we'll work it out. This will be kept private, only ur voting ward will be stored &u will be anonymous.\", 'answer': 'User timeout'}, {'times': 30.980153, 'question': \"Tx 4 joining! We need ur voting ward. Type ur home address & we'll work it out. This is prvt, only ur voting ward will be stored &u will be anonymous\", 'answer': 'User timeout'}]}\n"
     ]
    }
   ],
   "source": [
    "conn, db, conversations, raw, features = mongo_connect()\n",
    "try:\n",
    "    c = features.find({})\n",
    "finally:\n",
    "    conn.close()\n",
    "for x in c:\n",
    "    print(x)"
   ]
  },
  {
   "cell_type": "code",
   "execution_count": 62,
   "metadata": {},
   "outputs": [],
   "source": [
    "r = features.delete_many({'poi': '+27766763040'})"
   ]
  },
  {
   "cell_type": "code",
   "execution_count": 80,
   "metadata": {},
   "outputs": [],
   "source": [
    "from concurrent.futures import ProcessPoolExecutor\n",
    "\n",
    "e = ProcessPoolExecutor()\n",
    "addresses = get_addresses()\n",
    "results = list(e.map(make_features, addresses))"
   ]
  },
  {
   "cell_type": "code",
   "execution_count": 81,
   "metadata": {},
   "outputs": [
    {
     "data": {
      "text/plain": [
       "[ObjectId('5990cde241e9c468b80a55c8'),\n",
       " ObjectId('5990cde241e9c468b90a55c8'),\n",
       " ObjectId('5990cde241e9c468ba0a55c8'),\n",
       " ObjectId('5990cde241e9c468bb0a55c8'),\n",
       " ObjectId('5990cdec41e9c468bb0a55cb'),\n",
       " ObjectId('5990cdec41e9c468b90a55cb'),\n",
       " ObjectId('5990cdeb41e9c468ba0a55cb'),\n",
       " ObjectId('5990cdeb41e9c468b80a55cb'),\n",
       " ObjectId('5990cdf541e9c468ba0a55ce'),\n",
       " ObjectId('5990cdf541e9c468b80a55ce')]"
      ]
     },
     "execution_count": 81,
     "metadata": {},
     "output_type": "execute_result"
    }
   ],
   "source": [
    "results"
   ]
  }
 ],
 "metadata": {
  "kernelspec": {
   "display_name": "Python 3",
   "language": "python",
   "name": "python3"
  },
  "language_info": {
   "codemirror_mode": {
    "name": "ipython",
    "version": 3
   },
   "file_extension": ".py",
   "mimetype": "text/x-python",
   "name": "python",
   "nbconvert_exporter": "python",
   "pygments_lexer": "ipython3",
   "version": "3.6.2"
  }
 },
 "nbformat": 4,
 "nbformat_minor": 2
}
